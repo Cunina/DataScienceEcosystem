{
 "cells": [
  {
   "cell_type": "markdown",
   "id": "89f9bcdd-95bb-46ad-bbab-360ef730b4f0",
   "metadata": {},
   "source": [
    "# Data Science Tools and Ecosystem"
   ]
  },
  {
   "cell_type": "markdown",
   "id": "a51bf3a7-81ad-422f-88a9-75c4548d3643",
   "metadata": {},
   "source": [
    "In this notebook, Data Science Tools and Ecosystems are summarised."
   ]
  },
  {
   "cell_type": "markdown",
   "id": "e7ee73f3-1714-4648-82bb-21fadb84ff75",
   "metadata": {},
   "source": [
    "**Objectives:**"
   ]
  },
  {
   "cell_type": "markdown",
   "id": "1c0995c2-ffd4-43d9-a299-a464b57c583b",
   "metadata": {},
   "source": [
    "* List popular languages for DS"
   ]
  },
  {
   "cell_type": "markdown",
   "id": "7d865891-0d33-4512-93db-010fe1fd0d57",
   "metadata": {},
   "source": [
    "* List commonly used libraries in DS"
   ]
  },
  {
   "cell_type": "markdown",
   "id": "1809297b-12be-479e-b7e0-ea356ad3ec0b",
   "metadata": {},
   "source": [
    "* List commonly OS development environment tools used in DS"
   ]
  },
  {
   "cell_type": "markdown",
   "id": "3cef509a-f76e-48c6-ac9e-156f05d24cf4",
   "metadata": {},
   "source": [
    "* List some basic arithmetic operations in Phyton"
   ]
  },
  {
   "cell_type": "markdown",
   "id": "632835cd-e0c4-46ce-ab1b-ed22f5126225",
   "metadata": {},
   "source": [
    "Some of the popular languages that Data Scientists use are:"
   ]
  },
  {
   "cell_type": "markdown",
   "id": "bf04a6f3-46de-4efb-9789-b6aaa8513120",
   "metadata": {},
   "source": [
    "1. Python"
   ]
  },
  {
   "cell_type": "markdown",
   "id": "64746d01-9408-4b31-babc-308c1468aec0",
   "metadata": {},
   "source": [
    "2. R"
   ]
  },
  {
   "cell_type": "markdown",
   "id": "3b323799-86ec-43c6-830f-fd72821f8e21",
   "metadata": {},
   "source": [
    "3. SQL"
   ]
  },
  {
   "cell_type": "markdown",
   "id": "883804e7-3216-4fdf-b0cc-6da5cef66c14",
   "metadata": {},
   "source": [
    "Some of the commonly used libraries used by Data Scientists include:"
   ]
  },
  {
   "cell_type": "markdown",
   "id": "6e0b30a4-509f-4685-a94c-1ce602f52a74",
   "metadata": {},
   "source": [
    "* NumPy"
   ]
  },
  {
   "cell_type": "markdown",
   "id": "939721f4-c772-4aa7-a4f6-f51978cf552c",
   "metadata": {},
   "source": [
    "* Pandas"
   ]
  },
  {
   "cell_type": "markdown",
   "id": "684a1f06-63b3-439a-8cce-b0e6a45be1cc",
   "metadata": {},
   "source": [
    "* Matplotlib"
   ]
  },
  {
   "cell_type": "markdown",
   "id": "6e3bc04d-370b-4232-9960-c00d6ab9baab",
   "metadata": {},
   "source": [
    "* TensorFlow"
   ]
  },
  {
   "cell_type": "markdown",
   "id": "d0c6adef-dee7-42c5-a639-9fdd29414fcf",
   "metadata": {},
   "source": [
    "* NLTK"
   ]
  },
  {
   "cell_type": "markdown",
   "id": "b58aa7e3-124d-4869-b139-edefeff7aa97",
   "metadata": {},
   "source": [
    "Some of the commonly used developmemt environment open source tools used in data science include:"
   ]
  },
  {
   "cell_type": "markdown",
   "id": "6d1c76c3-d4e8-4d4e-b7a0-89f2bc6520f5",
   "metadata": {},
   "source": [
    "| Data Science Tools |\n",
    "| ------------------ | \n",
    "| Jupyter Notebooks |\n",
    "| RStudio |\n",
    "| VS Code |"
   ]
  },
  {
   "cell_type": "markdown",
   "id": "14c321fa-ec29-4fae-82f6-440dcd760abe",
   "metadata": {},
   "source": [
    "### Below are a few examples of evaluating arithmetic expressionsin Python: "
   ]
  },
  {
   "cell_type": "code",
   "execution_count": null,
   "id": "15a660d2-d48f-4a3b-a4bf-70196cb85630",
   "metadata": {},
   "outputs": [],
   "source": [
    "## This is a simple arithmetic expression to multiply then add integers."
   ]
  },
  {
   "cell_type": "code",
   "execution_count": 44,
   "id": "44c4209c-4b0b-4f37-9b2a-f76fa967eddb",
   "metadata": {},
   "outputs": [
    {
     "data": {
      "text/plain": [
       "17"
      ]
     },
     "execution_count": 44,
     "metadata": {},
     "output_type": "execute_result"
    }
   ],
   "source": [
    "(3*4)+5"
   ]
  },
  {
   "cell_type": "code",
   "execution_count": 46,
   "id": "0c0af93d-063b-468c-9b49-647c9b074629",
   "metadata": {},
   "outputs": [],
   "source": [
    "## This will convert 200 minutes to hours by dividing by 60."
   ]
  },
  {
   "cell_type": "code",
   "execution_count": 50,
   "id": "fe593691-047f-4edc-bc30-2e0079417c2c",
   "metadata": {},
   "outputs": [
    {
     "data": {
      "text/plain": [
       "3.3333333333333335"
      ]
     },
     "execution_count": 50,
     "metadata": {},
     "output_type": "execute_result"
    }
   ],
   "source": [
    "200/60"
   ]
  },
  {
   "cell_type": "markdown",
   "id": "64445a48-30f2-4503-8c0f-7cdcaf97e5c4",
   "metadata": {},
   "source": [
    "## Author"
   ]
  },
  {
   "cell_type": "markdown",
   "id": "8102c18d-c9a9-4a8e-aace-ad054475e149",
   "metadata": {},
   "source": [
    "Carolina Dunaevsky"
   ]
  },
  {
   "cell_type": "code",
   "execution_count": null,
   "id": "aff7e19e-b47b-4941-9cfb-24f7bf6de4e7",
   "metadata": {},
   "outputs": [],
   "source": []
  }
 ],
 "metadata": {
  "kernelspec": {
   "display_name": "Python 3 (ipykernel)",
   "language": "python",
   "name": "python3"
  },
  "language_info": {
   "codemirror_mode": {
    "name": "ipython",
    "version": 3
   },
   "file_extension": ".py",
   "mimetype": "text/x-python",
   "name": "python",
   "nbconvert_exporter": "python",
   "pygments_lexer": "ipython3",
   "version": "3.12.7"
  }
 },
 "nbformat": 4,
 "nbformat_minor": 5
}
